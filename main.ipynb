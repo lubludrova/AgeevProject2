{
 "cells": [
  {
   "cell_type": "code",
   "execution_count": 1,
   "id": "27c5babe",
   "metadata": {},
   "outputs": [
    {
     "name": "stderr",
     "output_type": "stream",
     "text": [
      "E:\\daniel\\asd\\lib\\site-packages\\scipy\\__init__.py:138: UserWarning: A NumPy version >=1.16.5 and <1.23.0 is required for this version of SciPy (detected version 1.24.1)\n",
      "  warnings.warn(f\"A NumPy version >={np_minversion} and <{np_maxversion} is required for this version of \"\n"
     ]
    },
    {
     "data": {
      "application/vnd.jupyter.widget-view+json": {
       "model_id": "963960cef8fe45a6b6724fa18476d5ca",
       "version_major": 2,
       "version_minor": 0
      },
      "text/plain": [
       "Retrieving MaterialsDoc documents:   0%|          | 0/1 [00:00<?, ?it/s]"
      ]
     },
     "metadata": {},
     "output_type": "display_data"
    },
    {
     "name": "stdout",
     "output_type": "stream",
     "text": [
      "\u001b[4m\u001b[1mMPDataDoc<MaterialsDoc>\u001b[0;0m\u001b[0;0m\n",
      "\u001b[1mbuilder_meta\u001b[0;0m=EmmetMeta(emmet_version='0.37.0', pymatgen_version='2022.4.19', pull_request=825, database_version='2022.10.28', build_date=datetime.datetime(2022, 10, 19, 1, 1, 4, 663000)),\n",
      "\u001b[1mnsites\u001b[0;0m=12,\n",
      "\u001b[1melements\u001b[0;0m=[Element Mo, Element S],\n",
      "\u001b[1mnelements\u001b[0;0m=2,\n",
      "\u001b[1mcomposition\u001b[0;0m=Comp: Mo4 S8,\n",
      "\u001b[1mcomposition_reduced\u001b[0;0m=Comp: Mo1 S2,\n",
      "\u001b[1mformula_pretty\u001b[0;0m='MoS2',\n",
      "\u001b[1mformula_anonymous\u001b[0;0m='AB2',\n",
      "\u001b[1mchemsys\u001b[0;0m='Mo-S',\n",
      "\u001b[1mvolume\u001b[0;0m=221.12870860787197,\n",
      "\u001b[1mdensity\u001b[0;0m=4.808104566142248,\n",
      "\u001b[1mdensity_atomic\u001b[0;0m=18.427392383989332,\n",
      "\u001b[1msymmetry\u001b[0;0m=SymmetryData(crystal_system=<CrystalSystem.cubic: 'Cubic'>, symbol='F-43m', number=216, point_group='-43m', symprec=0.1, version='1.16.2'),\n",
      "\u001b[1mmaterial_id\u001b[0;0m=MPID(mp-1405065),\n",
      "\u001b[1mstructure\u001b[0;0m=Structure Summary\n",
      "Lattice\n",
      "    abc : 6.7876594139659066 6.7876594139659066 6.7876594139659066\n",
      " angles : 60.00000000000001 60.00000000000001 60.00000000000001\n",
      " volume : 221.12870860787197\n",
      "      A : 0.0 4.7996 4.7996\n",
      "      B : 4.7996 0.0 4.7996\n",
      "      C : 4.7996 4.7996 0.0\n",
      "    pbc : True True True\n",
      "PeriodicSite: Mo (6.1546, 6.1546, 8.2443) [0.8588, 0.8588, 0.4235]\n",
      "PeriodicSite: Mo (8.2443, 6.1546, 6.1546) [0.4235, 0.8588, 0.8588]\n",
      "PeriodicSite: Mo (8.2443, 8.2443, 8.2443) [0.8588, 0.8588, 0.8588]\n",
      "PeriodicSite: Mo (6.1546, 8.2443, 6.1546) [0.8588, 0.4235, 0.8588]\n",
      "PeriodicSite: S (3.6966, 5.9026, 3.6966) [0.6149, 0.1553, 0.6149]\n",
      "PeriodicSite: S (5.9026, 3.6966, 3.6966) [0.1553, 0.6149, 0.6149]\n",
      "PeriodicSite: S (5.9026, 5.9026, 5.9026) [0.6149, 0.6149, 0.6149]\n",
      "PeriodicSite: S (1.1373, 1.1373, 1.1373) [0.1185, 0.1185, 0.1185]\n",
      "PeriodicSite: S (3.6623, 1.1373, 3.6623) [0.1185, 0.6446, 0.1185]\n",
      "PeriodicSite: S (3.6623, 3.6623, 1.1373) [0.1185, 0.1185, 0.6446]\n",
      "PeriodicSite: S (1.1373, 3.6623, 3.6623) [0.6446, 0.1185, 0.1185]\n",
      "PeriodicSite: S (3.6966, 3.6966, 5.9026) [0.6149, 0.6149, 0.1553],\n",
      "\u001b[1mdeprecated\u001b[0;0m=False,\n",
      "\u001b[1mdeprecation_reasons\u001b[0;0m=None,\n",
      "\u001b[1minitial_structures\u001b[0;0m=[Structure Summary\n",
      "Lattice\n",
      "    abc : 6.907960337877021 6.9079605091901035 6.9079608937548285\n",
      " angles : 60.68754498904717 60.68754189987873 60.68755199607264\n",
      " volume : 236.71334596562883\n",
      "      A : 6.014201 -0.013409 3.3984\n",
      "      B : 1.976883 5.680029 3.3984\n",
      "      C : -0.018909 -0.013409 6.907922\n",
      "    pbc : True True True\n",
      "PeriodicSite: Mo (3.1755, 2.2518, 8.3314) [0.3993, 0.3993, 0.8132]\n",
      "PeriodicSite: Mo (5.6725, 2.2518, 6.8788) [0.8132, 0.3993, 0.3993]\n",
      "PeriodicSite: Mo (4.0015, 4.6082, 6.8788) [0.3993, 0.8132, 0.3993]\n",
      "PeriodicSite: Mo (3.2276, 2.2887, 5.5485) [0.4049, 0.4049, 0.4049]\n",
      "PeriodicSite: S (5.0637, 3.5907, 8.7048) [0.6352, 0.6352, 0.6352]\n",
      "PeriodicSite: S (1.8616, 3.6265, 6.9419) [0.1011, 0.6402, 0.6402]\n",
      "PeriodicSite: S (4.0382, 0.5571, 6.9419) [0.6402, 0.1011, 0.6402]\n",
      "PeriodicSite: S (2.0251, 3.4036, 3.4814) [0.1400, 0.5999, 0.1400]\n",
      "PeriodicSite: S (1.1031, 0.7823, 1.8964) [0.1384, 0.1384, 0.1384]\n",
      "PeriodicSite: S (1.1073, 0.7852, 5.0954) [0.1400, 0.1400, 0.5999]\n",
      "PeriodicSite: S (3.8819, 0.7852, 3.4814) [0.5999, 0.1400, 0.1400]\n",
      "PeriodicSite: S (5.1141, 3.6265, 5.0499) [0.6402, 0.6402, 0.1011], Structure Summary\n",
      "Lattice\n",
      "    abc : 6.7876594139659066 6.7876594139659066 6.7876594139659066\n",
      " angles : 60.00000000000001 60.00000000000001 60.00000000000001\n",
      " volume : 221.12870860787197\n",
      "      A : 0.0 4.7996 4.7996\n",
      "      B : 4.7996 0.0 4.7996\n",
      "      C : 4.7996 4.7996 0.0\n",
      "    pbc : True True True\n",
      "PeriodicSite: Mo (6.1546, 6.1546, 8.2443) [0.8588, 0.8588, 0.4235]\n",
      "PeriodicSite: Mo (8.2443, 6.1546, 6.1546) [0.4235, 0.8588, 0.8588]\n",
      "PeriodicSite: Mo (8.2443, 8.2443, 8.2443) [0.8588, 0.8588, 0.8588]\n",
      "PeriodicSite: Mo (6.1546, 8.2443, 6.1546) [0.8588, 0.4235, 0.8588]\n",
      "PeriodicSite: S (3.6966, 5.9026, 3.6966) [0.6149, 0.1553, 0.6149]\n",
      "PeriodicSite: S (5.9026, 3.6966, 3.6966) [0.1553, 0.6149, 0.6149]\n",
      "PeriodicSite: S (5.9026, 5.9026, 5.9026) [0.6149, 0.6149, 0.6149]\n",
      "PeriodicSite: S (1.1373, 1.1373, 1.1373) [0.1185, 0.1185, 0.1185]\n",
      "PeriodicSite: S (3.6623, 1.1373, 3.6623) [0.1185, 0.6446, 0.1185]\n",
      "PeriodicSite: S (3.6623, 3.6623, 1.1373) [0.1185, 0.1185, 0.6446]\n",
      "PeriodicSite: S (1.1373, 3.6623, 3.6623) [0.6446, 0.1185, 0.1185]\n",
      "PeriodicSite: S (3.6966, 3.6966, 5.9026) [0.6149, 0.6149, 0.1553]],\n",
      "\u001b[1mtask_ids\u001b[0;0m=[MPID(mp-2479892), MPID(mp-1405065), MPID(mp-1738441), MPID(mp-1881124), MPID(mvc-11780)],\n",
      "\u001b[1mdeprecated_tasks\u001b[0;0m=[],\n",
      "\u001b[1mcalc_types\u001b[0;0m={'mvc-11780': <CalcType.GGA_Structure_Optimization: 'GGA Structure Optimization'>, 'mp-1405065': <CalcType.GGA_Static: 'GGA Static'>, 'mp-1738441': <CalcType.GGA_NSCF_Uniform: 'GGA NSCF Uniform'>, 'mp-1881124': <CalcType.GGA_Static: 'GGA Static'>, 'mp-2479892': <CalcType.GGA_Structure_Optimization: 'GGA Structure Optimization'>},\n",
      "\u001b[1mlast_updated\u001b[0;0m=datetime.datetime(2022, 6, 14, 18, 54, 50, 924000),\n",
      "\u001b[1mcreated_at\u001b[0;0m=datetime.datetime(2013, 11, 18, 12, 19, 54, 674000),\n",
      "\u001b[1morigins\u001b[0;0m=[PropertyOrigin(name='structure', task_id=MPID(mp-1405065), last_updated=datetime.datetime(2020, 5, 3, 15, 10, 27, 699000))],\n",
      "\u001b[1mwarnings\u001b[0;0m=[],\n",
      "\u001b[1mtask_types\u001b[0;0m={'mvc-11780': <TaskType.Structure_Optimization: 'Structure Optimization'>, 'mp-1405065': <TaskType.Static: 'Static'>, 'mp-1738441': <TaskType.NSCF_Uniform: 'NSCF Uniform'>, 'mp-1881124': <TaskType.Static: 'Static'>, 'mp-2479892': <TaskType.Structure_Optimization: 'Structure Optimization'>},\n",
      "\u001b[1mrun_types\u001b[0;0m={'mvc-11780': <RunType.GGA: 'GGA'>, 'mp-1405065': <RunType.GGA: 'GGA'>, 'mp-1738441': <RunType.GGA: 'GGA'>, 'mp-1881124': <RunType.GGA: 'GGA'>, 'mp-2479892': <RunType.GGA: 'GGA'>},\n",
      "\u001b[1mentries\u001b[0;0m={<RunType.GGA: 'GGA'>: mp-1405065-GGA ComputedStructureEntry - Mo4 S8       (MoS2)\n",
      "Energy (Uncorrected)     = -83.6583  eV (-6.9715  eV/atom)\n",
      "Correction               = 0.0000    eV (0.0000   eV/atom)\n",
      "Energy (Final)           = -83.6583  eV (-6.9715  eV/atom)\n",
      "Energy Adjustments:\n",
      "  None\n",
      "Parameters:\n",
      "  potcar_spec            = [{'titel': 'PAW_PBE Mo_pv 08Apr2002', 'hash': '84e18fd84a98e3d7fa8f055952410df0'}, {'titel': 'PAW_PBE S 17Jan2003', 'hash': 'd368db6899d8839859bbee4811a42a88'}]\n",
      "  is_hubbard             = False\n",
      "  hubbards               = {}\n",
      "  run_type               = GGA\n",
      "Data:\n",
      "  oxide_type             = None\n",
      "  aspherical             = True\n",
      "  last_updated           = 2020-05-03 15:10:27.699000\n",
      "  task_id                = mp-1405065\n",
      "  material_id            = mp-1405065}\n",
      "\n",
      "\u001b[1mFields not requested:\u001b[0;0m\n",
      "[]\n"
     ]
    }
   ],
   "source": [
    "from pymatgen.io.cif import CifParser\n",
    "from mp_api.client import MPRester\n",
    "\n",
    "\n",
    "mp_query = \"mp-1405065\"\n",
    "mp_api_key = \"ktzr83ix72Pw6SVNY8TiJHjhQWngQeRS\"\n",
    "\n",
    "\n",
    "mpr = MPRester(api_key=mp_api_key)\n",
    "\n",
    "mat1 = mpr.materials.get_data_by_id(mp_query)\n",
    "print(mat1)\n",
    "\n",
    "#  mpr = MPRester(mp_api_key) this method doesn't work"
   ]
  },
  {
   "cell_type": "code",
   "execution_count": 2,
   "id": "91ccdf81",
   "metadata": {
    "scrolled": true
   },
   "outputs": [
    {
     "data": {
      "text/plain": [
       "Structure Summary\n",
       "Lattice\n",
       "    abc : 9.5992 9.5992 9.5992\n",
       " angles : 90.0 90.0 90.0\n",
       " volume : 884.5148344314879\n",
       "      A : 9.5992 0.0 5.877814777187636e-16\n",
       "      B : 1.543669093877597e-15 9.5992 5.877814777187636e-16\n",
       "      C : 0.0 0.0 9.5992\n",
       "    pbc : True True True\n",
       "PeriodicSite: Mo4+ (1.3549, 1.3549, 1.3549) [0.1412, 0.1412, 0.1412]\n",
       "PeriodicSite: Mo4+ (1.3549, 8.2443, 8.2443) [0.1412, 0.8588, 0.8588]\n",
       "PeriodicSite: Mo4+ (8.2443, 8.2443, 1.3549) [0.8588, 0.8588, 0.1412]\n",
       "PeriodicSite: Mo4+ (8.2443, 1.3549, 8.2443) [0.8588, 0.1412, 0.8588]\n",
       "PeriodicSite: Mo4+ (6.1545, 6.1545, 1.3549) [0.6412, 0.6412, 0.1412]\n",
       "PeriodicSite: Mo4+ (6.1545, 3.4447, 8.2443) [0.6412, 0.3588, 0.8588]\n",
       "PeriodicSite: Mo4+ (3.4447, 3.4447, 1.3549) [0.3588, 0.3588, 0.1412]\n",
       "PeriodicSite: Mo4+ (3.4447, 6.1545, 8.2443) [0.3588, 0.6412, 0.8588]\n",
       "PeriodicSite: Mo4+ (6.1545, 1.3549, 6.1545) [0.6412, 0.1412, 0.6412]\n",
       "PeriodicSite: Mo4+ (6.1545, 8.2443, 3.4447) [0.6412, 0.8588, 0.3588]\n",
       "PeriodicSite: Mo4+ (3.4447, 8.2443, 6.1545) [0.3588, 0.8588, 0.6412]\n",
       "PeriodicSite: Mo4+ (3.4447, 1.3549, 3.4447) [0.3588, 0.1412, 0.3588]\n",
       "PeriodicSite: Mo4+ (1.3549, 6.1545, 6.1545) [0.1412, 0.6412, 0.6412]\n",
       "PeriodicSite: Mo4+ (1.3549, 3.4447, 3.4447) [0.1412, 0.3588, 0.3588]\n",
       "PeriodicSite: Mo4+ (8.2443, 3.4447, 6.1545) [0.8588, 0.3588, 0.6412]\n",
       "PeriodicSite: Mo4+ (8.2443, 6.1545, 3.4447) [0.8588, 0.6412, 0.3588]\n",
       "PeriodicSite: S2- (1.1030, 1.1030, 3.6966) [0.1149, 0.1149, 0.3851]\n",
       "PeriodicSite: S2- (1.1030, 8.4962, 5.9026) [0.1149, 0.8851, 0.6149]\n",
       "PeriodicSite: S2- (8.4962, 8.4962, 3.6966) [0.8851, 0.8851, 0.3851]\n",
       "PeriodicSite: S2- (8.4962, 1.1030, 5.9026) [0.8851, 0.1149, 0.6149]\n",
       "PeriodicSite: S2- (3.6966, 1.1030, 1.1030) [0.3851, 0.1149, 0.1149]\n",
       "PeriodicSite: S2- (5.9026, 1.1030, 8.4962) [0.6149, 0.1149, 0.8851]\n",
       "PeriodicSite: S2- (3.6966, 8.4962, 8.4962) [0.3851, 0.8851, 0.8851]\n",
       "PeriodicSite: S2- (5.9026, 8.4962, 1.1030) [0.6149, 0.8851, 0.1149]\n",
       "PeriodicSite: S2- (1.1030, 3.6966, 1.1030) [0.1149, 0.3851, 0.1149]\n",
       "PeriodicSite: S2- (8.4962, 5.9026, 1.1030) [0.8851, 0.6149, 0.1149]\n",
       "PeriodicSite: S2- (8.4962, 3.6966, 8.4962) [0.8851, 0.3851, 0.8851]\n",
       "PeriodicSite: S2- (1.1030, 5.9026, 8.4962) [0.1149, 0.6149, 0.8851]\n",
       "PeriodicSite: S2- (5.9026, 5.9026, 3.6966) [0.6149, 0.6149, 0.3851]\n",
       "PeriodicSite: S2- (5.9026, 3.6966, 5.9026) [0.6149, 0.3851, 0.6149]\n",
       "PeriodicSite: S2- (3.6966, 3.6966, 3.6966) [0.3851, 0.3851, 0.3851]\n",
       "PeriodicSite: S2- (3.6966, 5.9026, 5.9026) [0.3851, 0.6149, 0.6149]\n",
       "PeriodicSite: S2- (1.1373, 1.1373, 8.4619) [0.1185, 0.1185, 0.8815]\n",
       "PeriodicSite: S2- (1.1373, 8.4619, 1.1373) [0.1185, 0.8815, 0.1185]\n",
       "PeriodicSite: S2- (8.4619, 8.4619, 8.4619) [0.8815, 0.8815, 0.8815]\n",
       "PeriodicSite: S2- (8.4619, 1.1373, 1.1373) [0.8815, 0.1185, 0.1185]\n",
       "PeriodicSite: S2- (5.9369, 5.9369, 8.4619) [0.6185, 0.6185, 0.8815]\n",
       "PeriodicSite: S2- (5.9369, 3.6623, 1.1373) [0.6185, 0.3815, 0.1185]\n",
       "PeriodicSite: S2- (3.6623, 3.6623, 8.4619) [0.3815, 0.3815, 0.8815]\n",
       "PeriodicSite: S2- (3.6623, 5.9369, 1.1373) [0.3815, 0.6185, 0.1185]\n",
       "PeriodicSite: S2- (5.9369, 1.1373, 3.6623) [0.6185, 0.1185, 0.3815]\n",
       "PeriodicSite: S2- (5.9369, 8.4619, 5.9369) [0.6185, 0.8815, 0.6185]\n",
       "PeriodicSite: S2- (3.6623, 8.4619, 3.6623) [0.3815, 0.8815, 0.3815]\n",
       "PeriodicSite: S2- (3.6623, 1.1373, 5.9369) [0.3815, 0.1185, 0.6185]\n",
       "PeriodicSite: S2- (1.1373, 5.9369, 3.6623) [0.1185, 0.6185, 0.3815]\n",
       "PeriodicSite: S2- (1.1373, 3.6623, 5.9369) [0.1185, 0.3815, 0.6185]\n",
       "PeriodicSite: S2- (8.4619, 3.6623, 3.6623) [0.8815, 0.3815, 0.3815]\n",
       "PeriodicSite: S2- (8.4619, 5.9369, 5.9369) [0.8815, 0.6185, 0.6185]"
      ]
     },
     "execution_count": 2,
     "metadata": {},
     "output_type": "execute_result"
    }
   ],
   "source": [
    "from pymatgen.core import Lattice, Structure\n",
    "data_cif = Structure.from_file(\"MoS2.cif\")\n",
    "data_cif\n",
    "\n",
    "### This metgod doesn't work\n",
    "# from pymatgen.ext.matproj import MPRester\n",
    "# from pymatgen.io.cif import CifParser\n",
    "# data_cif = mpr.materials.get_data_by_id(mp_query)\n",
    "# print(data_cif) "
   ]
  },
  {
   "cell_type": "code",
   "execution_count": 4,
   "id": "6d2f614c",
   "metadata": {},
   "outputs": [
    {
     "data": {
      "application/vnd.jupyter.widget-view+json": {
       "model_id": "a5160abf20ad4ef28460c6e9d8741bdd",
       "version_major": 2,
       "version_minor": 0
      },
      "text/plain": [
       "NGLWidget()"
      ]
     },
     "metadata": {},
     "output_type": "display_data"
    }
   ],
   "source": [
    "import nglview as nv\n",
    "from nglview import show_structure_file\n",
    "\n",
    "view = nv.show_structure_file(\"MoS2_proj_init.cif\")\n",
    "# view._remote_call('setSize', args = ['', '600px'])\n",
    "view.camera = 'orthographic'\n",
    "view"
   ]
  },
  {
   "cell_type": "code",
   "execution_count": 5,
   "id": "640eea35",
   "metadata": {},
   "outputs": [
    {
     "data": {
      "application/vnd.jupyter.widget-view+json": {
       "model_id": "4a031d808ae6426994fafdd32fe8cb26",
       "version_major": 2,
       "version_minor": 0
      },
      "text/plain": [
       "NGLWidget()"
      ]
     },
     "metadata": {},
     "output_type": "display_data"
    }
   ],
   "source": [
    "import nglview as nv\n",
    "from nglview import show_structure_file\n",
    "\n",
    "view = nv.show_structure_file(\"6141cf0efbfd4bd9ab2c2f7e.cif\")\n",
    "# view._remote_call('setSize', args = ['', '600px'])\n",
    "# view.camera = 'orthographic'\n",
    "view"
   ]
  },
  {
   "cell_type": "code",
   "execution_count": null,
   "id": "c0880871",
   "metadata": {},
   "outputs": [],
   "source": []
  }
 ],
 "metadata": {
  "kernelspec": {
   "display_name": "Python 3",
   "language": "python",
   "name": "python3"
  },
  "language_info": {
   "codemirror_mode": {
    "name": "ipython",
    "version": 3
   },
   "file_extension": ".py",
   "mimetype": "text/x-python",
   "name": "python",
   "nbconvert_exporter": "python",
   "pygments_lexer": "ipython3",
   "version": "3.8.8"
  }
 },
 "nbformat": 4,
 "nbformat_minor": 5
}
